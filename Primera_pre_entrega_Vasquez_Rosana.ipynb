{
  "nbformat": 4,
  "nbformat_minor": 0,
  "metadata": {
    "colab": {
      "provenance": [],
      "authorship_tag": "ABX9TyOmGFpKLdvs4jWOtwjKVnz/",
      "include_colab_link": true
    },
    "kernelspec": {
      "name": "python3",
      "display_name": "Python 3"
    },
    "language_info": {
      "name": "python"
    }
  },
  "cells": [
    {
      "cell_type": "markdown",
      "metadata": {
        "id": "view-in-github",
        "colab_type": "text"
      },
      "source": [
        "<a href=\"https://colab.research.google.com/github/rosanavanesavasquez/API_DELILAH_DWBE/blob/main/Primera_pre_entrega_Vasquez_Rosana.ipynb\" target=\"_parent\"><img src=\"https://colab.research.google.com/assets/colab-badge.svg\" alt=\"Open In Colab\"/></a>"
      ]
    },
    {
      "cell_type": "code",
      "execution_count": null,
      "metadata": {
        "id": "taipGm-vjIT7",
        "colab": {
          "base_uri": "https://localhost:8080/",
          "height": 998
        },
        "outputId": "488abfb3-fbdf-4eba-9020-66fc149c3b75"
      },
      "outputs": [
        {
          "output_type": "stream",
          "name": "stdout",
          "text": [
            "1) Registre su usuario\n",
            "2) Mostrar usuarios registrados\n",
            "3) Inicie sesión\n",
            "4) Salir\n",
            "Seleccione una opción: 1\n",
            "Ingrese nombre de usuario: tobias\n",
            "Ingrese su clave: 12345\n",
            "Usuario registrado exitosamente.\n",
            "1) Registre su usuario\n",
            "2) Mostrar usuarios registrados\n",
            "3) Inicie sesión\n",
            "4) Salir\n",
            "Seleccione una opción: 2\n",
            "Usuarios registrados:\n",
            "User: tobias, Password: 12345\n",
            "1) Registre su usuario\n",
            "2) Mostrar usuarios registrados\n",
            "3) Inicie sesión\n",
            "4) Salir\n",
            "Seleccione una opción: 3\n",
            "Ingrese nombre de usuario: tobias\n",
            "Ingrese su clave: 12346\n",
            "User ó password incorrectos.\n",
            "1) Registre su usuario\n",
            "2) Mostrar usuarios registrados\n",
            "3) Inicie sesión\n",
            "4) Salir\n",
            "Seleccione una opción: 3\n",
            "Ingrese nombre de usuario: tobias\n",
            "Ingrese su clave: 12345\n",
            "Inicio de sesión exitoso.\n",
            "1) Registre su usuario\n",
            "2) Mostrar usuarios registrados\n",
            "3) Inicie sesión\n",
            "4) Salir\n"
          ]
        },
        {
          "output_type": "error",
          "ename": "KeyboardInterrupt",
          "evalue": "ignored",
          "traceback": [
            "\u001b[0;31m---------------------------------------------------------------------------\u001b[0m",
            "\u001b[0;31mKeyboardInterrupt\u001b[0m                         Traceback (most recent call last)",
            "\u001b[0;32m<ipython-input-2-73e9d702f41b>\u001b[0m in \u001b[0;36m<cell line: 28>\u001b[0;34m()\u001b[0m\n\u001b[1;32m     32\u001b[0m     \u001b[0mprint\u001b[0m\u001b[0;34m(\u001b[0m\u001b[0;34m\"4) Salir\"\u001b[0m\u001b[0;34m)\u001b[0m\u001b[0;34m\u001b[0m\u001b[0;34m\u001b[0m\u001b[0m\n\u001b[1;32m     33\u001b[0m \u001b[0;34m\u001b[0m\u001b[0m\n\u001b[0;32m---> 34\u001b[0;31m     \u001b[0mopcion\u001b[0m \u001b[0;34m=\u001b[0m \u001b[0mint\u001b[0m\u001b[0;34m(\u001b[0m\u001b[0minput\u001b[0m\u001b[0;34m(\u001b[0m\u001b[0;34m\"Seleccione una opción: \"\u001b[0m\u001b[0;34m)\u001b[0m\u001b[0;34m)\u001b[0m\u001b[0;34m\u001b[0m\u001b[0;34m\u001b[0m\u001b[0m\n\u001b[0m\u001b[1;32m     35\u001b[0m \u001b[0;34m\u001b[0m\u001b[0m\n\u001b[1;32m     36\u001b[0m     \u001b[0;32mif\u001b[0m \u001b[0mopcion\u001b[0m \u001b[0;34m==\u001b[0m \u001b[0;36m1\u001b[0m\u001b[0;34m:\u001b[0m\u001b[0;34m\u001b[0m\u001b[0;34m\u001b[0m\u001b[0m\n",
            "\u001b[0;32m/usr/local/lib/python3.10/dist-packages/ipykernel/kernelbase.py\u001b[0m in \u001b[0;36mraw_input\u001b[0;34m(self, prompt)\u001b[0m\n\u001b[1;32m    849\u001b[0m                 \u001b[0;34m\"raw_input was called, but this frontend does not support input requests.\"\u001b[0m\u001b[0;34m\u001b[0m\u001b[0;34m\u001b[0m\u001b[0m\n\u001b[1;32m    850\u001b[0m             )\n\u001b[0;32m--> 851\u001b[0;31m         return self._input_request(str(prompt),\n\u001b[0m\u001b[1;32m    852\u001b[0m             \u001b[0mself\u001b[0m\u001b[0;34m.\u001b[0m\u001b[0m_parent_ident\u001b[0m\u001b[0;34m,\u001b[0m\u001b[0;34m\u001b[0m\u001b[0;34m\u001b[0m\u001b[0m\n\u001b[1;32m    853\u001b[0m             \u001b[0mself\u001b[0m\u001b[0;34m.\u001b[0m\u001b[0m_parent_header\u001b[0m\u001b[0;34m,\u001b[0m\u001b[0;34m\u001b[0m\u001b[0;34m\u001b[0m\u001b[0m\n",
            "\u001b[0;32m/usr/local/lib/python3.10/dist-packages/ipykernel/kernelbase.py\u001b[0m in \u001b[0;36m_input_request\u001b[0;34m(self, prompt, ident, parent, password)\u001b[0m\n\u001b[1;32m    893\u001b[0m             \u001b[0;32mexcept\u001b[0m \u001b[0mKeyboardInterrupt\u001b[0m\u001b[0;34m:\u001b[0m\u001b[0;34m\u001b[0m\u001b[0;34m\u001b[0m\u001b[0m\n\u001b[1;32m    894\u001b[0m                 \u001b[0;31m# re-raise KeyboardInterrupt, to truncate traceback\u001b[0m\u001b[0;34m\u001b[0m\u001b[0;34m\u001b[0m\u001b[0m\n\u001b[0;32m--> 895\u001b[0;31m                 \u001b[0;32mraise\u001b[0m \u001b[0mKeyboardInterrupt\u001b[0m\u001b[0;34m(\u001b[0m\u001b[0;34m\"Interrupted by user\"\u001b[0m\u001b[0;34m)\u001b[0m \u001b[0;32mfrom\u001b[0m \u001b[0;32mNone\u001b[0m\u001b[0;34m\u001b[0m\u001b[0;34m\u001b[0m\u001b[0m\n\u001b[0m\u001b[1;32m    896\u001b[0m             \u001b[0;32mexcept\u001b[0m \u001b[0mException\u001b[0m \u001b[0;32mas\u001b[0m \u001b[0me\u001b[0m\u001b[0;34m:\u001b[0m\u001b[0;34m\u001b[0m\u001b[0;34m\u001b[0m\u001b[0m\n\u001b[1;32m    897\u001b[0m                 \u001b[0mself\u001b[0m\u001b[0;34m.\u001b[0m\u001b[0mlog\u001b[0m\u001b[0;34m.\u001b[0m\u001b[0mwarning\u001b[0m\u001b[0;34m(\u001b[0m\u001b[0;34m\"Invalid Message:\"\u001b[0m\u001b[0;34m,\u001b[0m \u001b[0mexc_info\u001b[0m\u001b[0;34m=\u001b[0m\u001b[0;32mTrue\u001b[0m\u001b[0;34m)\u001b[0m\u001b[0;34m\u001b[0m\u001b[0;34m\u001b[0m\u001b[0m\n",
            "\u001b[0;31mKeyboardInterrupt\u001b[0m: Interrupted by user"
          ]
        }
      ],
      "source": [
        "#Crear un programa que permita emular el registro y almacenamiento de usuarios en una base de datos.\n",
        "#Crear el programa utilizando el concepto de funciones, diccionarios, bucles y condicionales\n",
        "#El formato de registro es: Nombre de usuario y Contraseña.\n",
        "#Utilizar una función para almacenar la información y otra función para mostrar la información.\n",
        "#Utilizar un diccionario para almacenar dicha información, con el par usuario-contraseña (clave-valor).\n",
        "#Utilizar otra función para el login de usuarios, comprobando que la contraseña coincida con el usuario.\n",
        "\n",
        "# 1) Función para registrar los usuarios\n",
        "def registrar_user(database, user, password):\n",
        "    database[user] = password\n",
        "    print(\"Usuario registrado exitosamente.\")\n",
        "# 2) Función para ver los datos de los usuarios\n",
        "def mostrar_users(database):\n",
        "    print(\"Usuarios registrados:\")\n",
        "    for user, password in database.items():\n",
        "        print(f\"User: {user}, Password: {password}\")\n",
        "\n",
        "# Función para el login\n",
        "def login(database, user, password):\n",
        "    if user in database and database[user] == password:\n",
        "        print(\"Inicio de sesión exitoso.\")\n",
        "    else:\n",
        "        print(\"User ó password incorrectos.\")\n",
        "\n",
        "# DB (diccionario para almacenar users y contraseñas)\n",
        "database = {}\n",
        "# Inicio del programa\n",
        "while True:\n",
        "    print(\"1) Registre su usuario\")\n",
        "    print(\"2) Mostrar usuarios registrados\")\n",
        "    print(\"3) Inicie sesión\")\n",
        "    print(\"4) Salir\")\n",
        "\n",
        "    opcion = int(input(\"Seleccione una opción: \"))\n",
        "\n",
        "    if opcion == 1:\n",
        "        user = input(\"Ingrese nombre de usuario: \")\n",
        "        password = input(\"Ingrese su clave: \")\n",
        "        registrar_user(database, user, password)\n",
        "    elif opcion == 2:\n",
        "        mostrar_users(database)\n",
        "    elif opcion == 3:\n",
        "        user = input(\"Ingrese nombre de usuario: \")\n",
        "        password = input(\"Ingrese su clave: \")\n",
        "        login(database, user, password)\n",
        "    elif opcion == 4:\n",
        "        print(\"¡Chau!\")\n",
        "        break\n",
        "    else:\n",
        "        print(\"Opción incorrecta. Por favor, seleccione una opción válida.\")\n"
      ]
    }
  ]
}